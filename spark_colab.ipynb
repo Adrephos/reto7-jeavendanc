{
  "nbformat": 4,
  "nbformat_minor": 0,
  "metadata": {
    "colab": {
      "provenance": []
    },
    "kernelspec": {
      "name": "python3",
      "display_name": "Python 3"
    },
    "language_info": {
      "name": "python"
    }
  },
  "cells": [
    {
      "cell_type": "code",
      "execution_count": null,
      "metadata": {
        "colab": {
          "base_uri": "https://localhost:8080/"
        },
        "id": "ty_PiAj8lJa9",
        "outputId": "fd846fcf-6484-453d-c745-d087dadfa71c"
      },
      "outputs": [
        {
          "output_type": "stream",
          "name": "stdout",
          "text": [
            "Drive already mounted at /content/gdrive; to attempt to forcibly remount, call drive.mount(\"/content/gdrive\", force_remount=True).\n"
          ]
        }
      ],
      "source": [
        "from google.colab import drive\n",
        "drive.mount('/content/gdrive')"
      ]
    },
    {
      "cell_type": "code",
      "source": [
        "!apt-get install openjdk-11-jdk-headless -qq > /dev/null\n",
        "!wget -q https://downloads.apache.org/spark/spark-3.5.1/spark-3.5.1-bin-hadoop3.tgz\n",
        "!tar xf spark-3.5.1-bin-hadoop3.tgz\n",
        "!pip install -q findspark"
      ],
      "metadata": {
        "id": "xRNHDdMMmbUG"
      },
      "execution_count": null,
      "outputs": []
    },
    {
      "cell_type": "code",
      "source": [
        "import os\n",
        "os.environ[\"JAVA_HOME\"] = \"/usr/lib/jvm/java-11-openjdk-amd64\"\n",
        "os.environ[\"SPARK_HOME\"] = \"/content/spark-3.5.1-bin-hadoop3\""
      ],
      "metadata": {
        "id": "DUDx0RKOpOeW"
      },
      "execution_count": null,
      "outputs": []
    },
    {
      "cell_type": "code",
      "source": [
        "import findspark\n",
        "findspark.init()\n",
        "from pyspark.sql import SparkSession\n",
        "spark = SparkSession.builder.master(\"local[*]\").getOrCreate()\n",
        "sc = spark.sparkContext"
      ],
      "metadata": {
        "id": "LSkov_tPpnid"
      },
      "execution_count": null,
      "outputs": []
    },
    {
      "cell_type": "code",
      "source": [
        "spark"
      ],
      "metadata": {
        "colab": {
          "base_uri": "https://localhost:8080/",
          "height": 219
        },
        "id": "_T0UpnKvqEdN",
        "outputId": "f36478c0-00da-4db8-e52f-8d635d7e9e3c"
      },
      "execution_count": null,
      "outputs": [
        {
          "output_type": "execute_result",
          "data": {
            "text/plain": [
              "<pyspark.sql.session.SparkSession at 0x7be9b8300c40>"
            ],
            "text/html": [
              "\n",
              "            <div>\n",
              "                <p><b>SparkSession - in-memory</b></p>\n",
              "                \n",
              "        <div>\n",
              "            <p><b>SparkContext</b></p>\n",
              "\n",
              "            <p><a href=\"http://57b623cad16e:4040\">Spark UI</a></p>\n",
              "\n",
              "            <dl>\n",
              "              <dt>Version</dt>\n",
              "                <dd><code>v3.5.1</code></dd>\n",
              "              <dt>Master</dt>\n",
              "                <dd><code>local[*]</code></dd>\n",
              "              <dt>AppName</dt>\n",
              "                <dd><code>pyspark-shell</code></dd>\n",
              "            </dl>\n",
              "        </div>\n",
              "        \n",
              "            </div>\n",
              "        "
            ]
          },
          "metadata": {},
          "execution_count": 203
        }
      ]
    },
    {
      "cell_type": "code",
      "source": [
        "sc"
      ],
      "metadata": {
        "colab": {
          "base_uri": "https://localhost:8080/",
          "height": 196
        },
        "id": "5uNKP3XQqGFP",
        "outputId": "0d495591-f998-4ad7-f59a-a6cf45680696"
      },
      "execution_count": null,
      "outputs": [
        {
          "output_type": "execute_result",
          "data": {
            "text/plain": [
              "<SparkContext master=local[*] appName=pyspark-shell>"
            ],
            "text/html": [
              "\n",
              "        <div>\n",
              "            <p><b>SparkContext</b></p>\n",
              "\n",
              "            <p><a href=\"http://57b623cad16e:4040\">Spark UI</a></p>\n",
              "\n",
              "            <dl>\n",
              "              <dt>Version</dt>\n",
              "                <dd><code>v3.5.1</code></dd>\n",
              "              <dt>Master</dt>\n",
              "                <dd><code>local[*]</code></dd>\n",
              "              <dt>AppName</dt>\n",
              "                <dd><code>pyspark-shell</code></dd>\n",
              "            </dl>\n",
              "        </div>\n",
              "        "
            ]
          },
          "metadata": {},
          "execution_count": 204
        }
      ]
    },
    {
      "cell_type": "code",
      "source": [
        "df = spark.read.csv('gdrive/MyDrive/datasets/sample_data.csv', inferSchema=True, header=True)"
      ],
      "metadata": {
        "id": "kfi3CPA4qV8B"
      },
      "execution_count": null,
      "outputs": []
    },
    {
      "cell_type": "code",
      "source": [
        "df.columns"
      ],
      "metadata": {
        "colab": {
          "base_uri": "https://localhost:8080/"
        },
        "id": "vca6Errcqsi9",
        "outputId": "82dae98f-f723-407f-b233-596793cd5f00"
      },
      "execution_count": null,
      "outputs": [
        {
          "output_type": "execute_result",
          "data": {
            "text/plain": [
              "['ratings', 'age', 'experience', 'family', 'mobile']"
            ]
          },
          "metadata": {},
          "execution_count": 206
        }
      ]
    },
    {
      "cell_type": "code",
      "source": [
        "len(df.columns)"
      ],
      "metadata": {
        "colab": {
          "base_uri": "https://localhost:8080/"
        },
        "id": "FILmKCQXq5FQ",
        "outputId": "f1cd9dc3-b380-4aab-f9b2-a349fcdb5306"
      },
      "execution_count": null,
      "outputs": [
        {
          "output_type": "execute_result",
          "data": {
            "text/plain": [
              "5"
            ]
          },
          "metadata": {},
          "execution_count": 207
        }
      ]
    },
    {
      "cell_type": "code",
      "source": [
        "df.count()"
      ],
      "metadata": {
        "colab": {
          "base_uri": "https://localhost:8080/"
        },
        "id": "dbkrgRjUq8X6",
        "outputId": "cff5985a-747b-4b47-af89-1efa0e0d7aeb"
      },
      "execution_count": null,
      "outputs": [
        {
          "output_type": "execute_result",
          "data": {
            "text/plain": [
              "33"
            ]
          },
          "metadata": {},
          "execution_count": 208
        }
      ]
    },
    {
      "cell_type": "code",
      "source": [
        "print((df.count(), len(df.columns)))"
      ],
      "metadata": {
        "colab": {
          "base_uri": "https://localhost:8080/"
        },
        "id": "l6Jd1tWJri0U",
        "outputId": "a9d77612-6992-408f-a05d-709e73f40bef"
      },
      "execution_count": null,
      "outputs": [
        {
          "output_type": "stream",
          "name": "stdout",
          "text": [
            "(33, 5)\n"
          ]
        }
      ]
    },
    {
      "cell_type": "code",
      "source": [
        "df.printSchema()"
      ],
      "metadata": {
        "colab": {
          "base_uri": "https://localhost:8080/"
        },
        "id": "gH8N6kZLscn1",
        "outputId": "a49c4738-e5c1-4cdd-e099-a9390272ad36"
      },
      "execution_count": null,
      "outputs": [
        {
          "output_type": "stream",
          "name": "stdout",
          "text": [
            "root\n",
            " |-- ratings: integer (nullable = true)\n",
            " |-- age: integer (nullable = true)\n",
            " |-- experience: double (nullable = true)\n",
            " |-- family: integer (nullable = true)\n",
            " |-- mobile: string (nullable = true)\n",
            "\n"
          ]
        }
      ]
    },
    {
      "cell_type": "code",
      "source": [
        "df.show(5)"
      ],
      "metadata": {
        "colab": {
          "base_uri": "https://localhost:8080/"
        },
        "id": "tjyRuP6tvSyl",
        "outputId": "b958fc30-6f26-455c-ec48-dc3d3046886e"
      },
      "execution_count": null,
      "outputs": [
        {
          "output_type": "stream",
          "name": "stdout",
          "text": [
            "+-------+---+----------+------+-------+\n",
            "|ratings|age|experience|family| mobile|\n",
            "+-------+---+----------+------+-------+\n",
            "|      3| 32|       9.0|     3|   Vivo|\n",
            "|      3| 27|      13.0|     3|  Apple|\n",
            "|      4| 22|       2.5|     0|Samsung|\n",
            "|      4| 37|      16.5|     4|  Apple|\n",
            "|      5| 27|       9.0|     1|     MI|\n",
            "+-------+---+----------+------+-------+\n",
            "only showing top 5 rows\n",
            "\n"
          ]
        }
      ]
    },
    {
      "cell_type": "code",
      "source": [
        "df.select('age', 'mobile').show(5)"
      ],
      "metadata": {
        "colab": {
          "base_uri": "https://localhost:8080/"
        },
        "id": "_OwUVX7UvXRB",
        "outputId": "4c727650-f171-4ae6-99ad-6e54553f3c76"
      },
      "execution_count": null,
      "outputs": [
        {
          "output_type": "stream",
          "name": "stdout",
          "text": [
            "+---+-------+\n",
            "|age| mobile|\n",
            "+---+-------+\n",
            "| 32|   Vivo|\n",
            "| 27|  Apple|\n",
            "| 22|Samsung|\n",
            "| 37|  Apple|\n",
            "| 27|     MI|\n",
            "+---+-------+\n",
            "only showing top 5 rows\n",
            "\n"
          ]
        }
      ]
    },
    {
      "cell_type": "code",
      "source": [
        "df.describe().show()"
      ],
      "metadata": {
        "colab": {
          "base_uri": "https://localhost:8080/"
        },
        "id": "BnltefHKvmz8",
        "outputId": "5f0016b1-a623-44cb-f42d-fe2b6307e789"
      },
      "execution_count": null,
      "outputs": [
        {
          "output_type": "stream",
          "name": "stdout",
          "text": [
            "+-------+------------------+------------------+------------------+------------------+------+\n",
            "|summary|           ratings|               age|        experience|            family|mobile|\n",
            "+-------+------------------+------------------+------------------+------------------+------+\n",
            "|  count|                26|                26|                26|                26|    26|\n",
            "|   mean|3.6538461538461537|30.846153846153847|11.057692307692308|1.9615384615384615|  NULL|\n",
            "| stddev|1.1980753796755093| 6.373020054525532| 7.218485884279227|1.8650634140590336|  NULL|\n",
            "|    min|                 1|                22|               2.5|                 0| Apple|\n",
            "|    max|                 5|                42|              23.0|                 5|  Vivo|\n",
            "+-------+------------------+------------------+------------------+------------------+------+\n",
            "\n"
          ]
        }
      ]
    },
    {
      "cell_type": "code",
      "source": [
        "from pyspark.sql.types import StringType, DoubleType, IntegerType"
      ],
      "metadata": {
        "id": "xF0zOxg-0Img"
      },
      "execution_count": null,
      "outputs": []
    },
    {
      "cell_type": "code",
      "source": [
        "df.withColumn(\"age_after_10_yrs\", (df[\"age\"])).show(10, False)"
      ],
      "metadata": {
        "colab": {
          "base_uri": "https://localhost:8080/"
        },
        "id": "sgfcesrL0Qqc",
        "outputId": "03836609-440c-46ac-c796-0eff2233c841"
      },
      "execution_count": null,
      "outputs": [
        {
          "output_type": "stream",
          "name": "stdout",
          "text": [
            "+-------+---+----------+------+-------+----------------+\n",
            "|ratings|age|experience|family|mobile |age_after_10_yrs|\n",
            "+-------+---+----------+------+-------+----------------+\n",
            "|3      |32 |9.0       |3     |Vivo   |32              |\n",
            "|4      |22 |2.5       |0     |Samsung|22              |\n",
            "|5      |27 |6.0       |0     |MI     |27              |\n",
            "|4      |22 |6.0       |1     |Oppo   |22              |\n",
            "|3      |27 |6.0       |0     |MI     |27              |\n",
            "|2      |32 |16.5      |2     |Oppo   |32              |\n",
            "|4      |27 |9.0       |0     |Oppo   |27              |\n",
            "|2      |27 |9.0       |2     |Samsung|27              |\n",
            "|3      |37 |16.5      |5     |Apple  |37              |\n",
            "|4      |27 |6.0       |1     |Apple  |27              |\n",
            "+-------+---+----------+------+-------+----------------+\n",
            "only showing top 10 rows\n",
            "\n"
          ]
        }
      ]
    },
    {
      "cell_type": "code",
      "source": [
        "df.withColumn('age_double',df['age'].cast(DoubleType())).show(10,False)"
      ],
      "metadata": {
        "colab": {
          "base_uri": "https://localhost:8080/"
        },
        "id": "Jt_Xr04g0qAs",
        "outputId": "4a12f5a9-2797-47a7-d6dd-2c464f5ae52e"
      },
      "execution_count": null,
      "outputs": [
        {
          "output_type": "stream",
          "name": "stdout",
          "text": [
            "+-------+---+----------+------+-------+----------+\n",
            "|ratings|age|experience|family|mobile |age_double|\n",
            "+-------+---+----------+------+-------+----------+\n",
            "|3      |32 |9.0       |3     |Vivo   |32.0      |\n",
            "|3      |27 |13.0      |3     |Apple  |27.0      |\n",
            "|4      |22 |2.5       |0     |Samsung|22.0      |\n",
            "|4      |37 |16.5      |4     |Apple  |37.0      |\n",
            "|5      |27 |9.0       |1     |MI     |27.0      |\n",
            "|4      |27 |9.0       |0     |Oppo   |27.0      |\n",
            "|5      |37 |23.0      |5     |Vivo   |37.0      |\n",
            "|5      |37 |23.0      |5     |Samsung|37.0      |\n",
            "|3      |22 |2.5       |0     |Apple  |22.0      |\n",
            "|3      |27 |6.0       |0     |MI     |27.0      |\n",
            "+-------+---+----------+------+-------+----------+\n",
            "only showing top 10 rows\n",
            "\n"
          ]
        }
      ]
    },
    {
      "cell_type": "code",
      "source": [
        "df.withColumn(\"age_after_10_yrs\",(df[\"age\"]+10)).show(10,False)"
      ],
      "metadata": {
        "colab": {
          "base_uri": "https://localhost:8080/"
        },
        "id": "SziAbLSg0tAU",
        "outputId": "452e4da8-e67f-4a02-ebbd-fe3f971b0c7f"
      },
      "execution_count": null,
      "outputs": [
        {
          "output_type": "stream",
          "name": "stdout",
          "text": [
            "+-------+---+----------+------+-------+----------------+\n",
            "|ratings|age|experience|family|mobile |age_after_10_yrs|\n",
            "+-------+---+----------+------+-------+----------------+\n",
            "|3      |32 |9.0       |3     |Vivo   |42              |\n",
            "|3      |27 |13.0      |3     |Apple  |37              |\n",
            "|4      |22 |2.5       |0     |Samsung|32              |\n",
            "|4      |37 |16.5      |4     |Apple  |47              |\n",
            "|5      |27 |9.0       |1     |MI     |37              |\n",
            "|4      |27 |9.0       |0     |Oppo   |37              |\n",
            "|5      |37 |23.0      |5     |Vivo   |47              |\n",
            "|5      |37 |23.0      |5     |Samsung|47              |\n",
            "|3      |22 |2.5       |0     |Apple  |32              |\n",
            "|3      |27 |6.0       |0     |MI     |37              |\n",
            "+-------+---+----------+------+-------+----------------+\n",
            "only showing top 10 rows\n",
            "\n"
          ]
        }
      ]
    },
    {
      "cell_type": "code",
      "source": [
        "df.filter(df['mobile']=='Vivo').show()"
      ],
      "metadata": {
        "colab": {
          "base_uri": "https://localhost:8080/"
        },
        "id": "QVgef_Wv02g9",
        "outputId": "82fe5087-bab9-4c63-e799-dfe7403b53a7"
      },
      "execution_count": null,
      "outputs": [
        {
          "output_type": "stream",
          "name": "stdout",
          "text": [
            "+-------+---+----------+------+------+\n",
            "|ratings|age|experience|family|mobile|\n",
            "+-------+---+----------+------+------+\n",
            "|      3| 32|       9.0|     3|  Vivo|\n",
            "|      5| 37|      23.0|     5|  Vivo|\n",
            "|      4| 37|       6.0|     0|  Vivo|\n",
            "|      5| 37|      13.0|     1|  Vivo|\n",
            "|      4| 37|       6.0|     0|  Vivo|\n",
            "+-------+---+----------+------+------+\n",
            "\n"
          ]
        }
      ]
    },
    {
      "cell_type": "code",
      "source": [
        "df.filter(df['mobile']=='Vivo').select('age','ratings','mobile').show()"
      ],
      "metadata": {
        "colab": {
          "base_uri": "https://localhost:8080/"
        },
        "id": "b2_p_YCi06lJ",
        "outputId": "c536ae60-d0ef-4c03-a933-67aa14925470"
      },
      "execution_count": null,
      "outputs": [
        {
          "output_type": "stream",
          "name": "stdout",
          "text": [
            "+---+-------+------+\n",
            "|age|ratings|mobile|\n",
            "+---+-------+------+\n",
            "| 32|      3|  Vivo|\n",
            "| 37|      5|  Vivo|\n",
            "| 37|      4|  Vivo|\n",
            "| 37|      5|  Vivo|\n",
            "| 37|      4|  Vivo|\n",
            "+---+-------+------+\n",
            "\n"
          ]
        }
      ]
    },
    {
      "cell_type": "code",
      "source": [
        "df.filter(df['mobile']=='Vivo').filter(df['experience'] >10).show()"
      ],
      "metadata": {
        "colab": {
          "base_uri": "https://localhost:8080/"
        },
        "id": "oIV5Ov4s0-46",
        "outputId": "62f03c4a-0250-42fa-e968-6839c0816f5b"
      },
      "execution_count": null,
      "outputs": [
        {
          "output_type": "stream",
          "name": "stdout",
          "text": [
            "+-------+---+----------+------+------+\n",
            "|ratings|age|experience|family|mobile|\n",
            "+-------+---+----------+------+------+\n",
            "|      5| 37|      23.0|     5|  Vivo|\n",
            "|      5| 37|      13.0|     1|  Vivo|\n",
            "+-------+---+----------+------+------+\n",
            "\n"
          ]
        }
      ]
    },
    {
      "cell_type": "code",
      "source": [
        "df.filter((df['mobile']=='Vivo')&(df['experience'] >10)).show()"
      ],
      "metadata": {
        "colab": {
          "base_uri": "https://localhost:8080/"
        },
        "id": "GLi7VoNt1D8G",
        "outputId": "39875683-594e-4190-9f16-6a142ef58937"
      },
      "execution_count": null,
      "outputs": [
        {
          "output_type": "stream",
          "name": "stdout",
          "text": [
            "+-------+---+----------+------+------+\n",
            "|ratings|age|experience|family|mobile|\n",
            "+-------+---+----------+------+------+\n",
            "|      5| 37|      23.0|     5|  Vivo|\n",
            "|      5| 37|      13.0|     1|  Vivo|\n",
            "+-------+---+----------+------+------+\n",
            "\n"
          ]
        }
      ]
    },
    {
      "cell_type": "code",
      "source": [
        "df.select('mobile').distinct().show()"
      ],
      "metadata": {
        "colab": {
          "base_uri": "https://localhost:8080/"
        },
        "id": "MEW9uWUE1FXP",
        "outputId": "251182f1-d3db-404f-b693-fed5472d9396"
      },
      "execution_count": null,
      "outputs": [
        {
          "output_type": "stream",
          "name": "stdout",
          "text": [
            "+-------+\n",
            "| mobile|\n",
            "+-------+\n",
            "|     MI|\n",
            "|   Oppo|\n",
            "|Samsung|\n",
            "|   Vivo|\n",
            "|  Apple|\n",
            "+-------+\n",
            "\n"
          ]
        }
      ]
    },
    {
      "cell_type": "code",
      "source": [
        "df.select('mobile').distinct().count()"
      ],
      "metadata": {
        "colab": {
          "base_uri": "https://localhost:8080/"
        },
        "id": "1AzKJLM11H32",
        "outputId": "7f1ef7c3-408e-4585-ef02-729525e3bfd7"
      },
      "execution_count": null,
      "outputs": [
        {
          "output_type": "execute_result",
          "data": {
            "text/plain": [
              "5"
            ]
          },
          "metadata": {},
          "execution_count": 223
        }
      ]
    },
    {
      "cell_type": "code",
      "source": [
        "df.groupBy('mobile').count().show(5,False)"
      ],
      "metadata": {
        "colab": {
          "base_uri": "https://localhost:8080/"
        },
        "id": "kS2VRh3F1KAt",
        "outputId": "b3c0829e-fccb-47a9-a4ea-e5b32f275da5"
      },
      "execution_count": null,
      "outputs": [
        {
          "output_type": "stream",
          "name": "stdout",
          "text": [
            "+-------+-----+\n",
            "|mobile |count|\n",
            "+-------+-----+\n",
            "|MI     |6    |\n",
            "|Oppo   |5    |\n",
            "|Samsung|6    |\n",
            "|Vivo   |4    |\n",
            "|Apple  |5    |\n",
            "+-------+-----+\n",
            "\n"
          ]
        }
      ]
    },
    {
      "cell_type": "code",
      "source": [
        "df.groupBy('mobile').count().orderBy('count',ascending=False).show(5,False)"
      ],
      "metadata": {
        "colab": {
          "base_uri": "https://localhost:8080/"
        },
        "id": "BLYp9mTN1MFo",
        "outputId": "91de40a5-7222-4da7-d704-f79a3601ff68"
      },
      "execution_count": null,
      "outputs": [
        {
          "output_type": "stream",
          "name": "stdout",
          "text": [
            "+-------+-----+\n",
            "|mobile |count|\n",
            "+-------+-----+\n",
            "|MI     |6    |\n",
            "|Samsung|6    |\n",
            "|Oppo   |5    |\n",
            "|Apple  |5    |\n",
            "|Vivo   |4    |\n",
            "+-------+-----+\n",
            "\n"
          ]
        }
      ]
    },
    {
      "cell_type": "code",
      "source": [],
      "metadata": {
        "id": "62FLZjI_t0Cu"
      },
      "execution_count": null,
      "outputs": []
    },
    {
      "cell_type": "code",
      "source": [
        "df.groupBy('mobile').mean().show(5,False)"
      ],
      "metadata": {
        "colab": {
          "base_uri": "https://localhost:8080/"
        },
        "id": "yqBRjad11Pgx",
        "outputId": "783bfc4a-90f4-4775-8b17-73b982a55b69"
      },
      "execution_count": null,
      "outputs": [
        {
          "output_type": "stream",
          "name": "stdout",
          "text": [
            "+-------+------------------+------------------+------------------+------------------+\n",
            "|mobile |avg(ratings)      |avg(age)          |avg(experience)   |avg(family)       |\n",
            "+-------+------------------+------------------+------------------+------------------+\n",
            "|MI     |3.5               |30.125            |10.1875           |1.375             |\n",
            "|Oppo   |2.857142857142857 |28.428571428571427|10.357142857142858|1.4285714285714286|\n",
            "|Samsung|4.166666666666667 |28.666666666666668|8.666666666666666 |1.8333333333333333|\n",
            "|Vivo   |4.2               |36.0              |11.4              |1.8               |\n",
            "|Apple  |3.4285714285714284|30.571428571428573|11.0              |2.7142857142857144|\n",
            "+-------+------------------+------------------+------------------+------------------+\n",
            "\n"
          ]
        }
      ]
    },
    {
      "cell_type": "code",
      "source": [
        "df.groupBy('mobile').sum().show(5,False)"
      ],
      "metadata": {
        "colab": {
          "base_uri": "https://localhost:8080/"
        },
        "id": "MK_lvZl_1R6N",
        "outputId": "c7437ffb-e9a2-4b36-e33b-1f18a527985f"
      },
      "execution_count": null,
      "outputs": [
        {
          "output_type": "stream",
          "name": "stdout",
          "text": [
            "+-------+------------+--------+---------------+-----------+\n",
            "|mobile |sum(ratings)|sum(age)|sum(experience)|sum(family)|\n",
            "+-------+------------+--------+---------------+-----------+\n",
            "|MI     |28          |241     |81.5           |11         |\n",
            "|Oppo   |20          |199     |72.5           |10         |\n",
            "|Samsung|25          |172     |52.0           |11         |\n",
            "|Vivo   |21          |180     |57.0           |9          |\n",
            "|Apple  |24          |214     |77.0           |19         |\n",
            "+-------+------------+--------+---------------+-----------+\n",
            "\n"
          ]
        }
      ]
    },
    {
      "cell_type": "code",
      "source": [
        "df.groupBy('mobile').max().show(5,False)"
      ],
      "metadata": {
        "colab": {
          "base_uri": "https://localhost:8080/"
        },
        "id": "APSCPnRD1UIJ",
        "outputId": "49940ad0-845e-4bec-888a-650ee126ae4c"
      },
      "execution_count": null,
      "outputs": [
        {
          "output_type": "stream",
          "name": "stdout",
          "text": [
            "+-------+------------+--------+---------------+-----------+\n",
            "|mobile |max(ratings)|max(age)|max(experience)|max(family)|\n",
            "+-------+------------+--------+---------------+-----------+\n",
            "|MI     |5           |42      |23.0           |5          |\n",
            "|Oppo   |4           |42      |23.0           |2          |\n",
            "|Samsung|5           |37      |23.0           |5          |\n",
            "|Vivo   |5           |37      |23.0           |5          |\n",
            "|Apple  |4           |37      |16.5           |5          |\n",
            "+-------+------------+--------+---------------+-----------+\n",
            "\n"
          ]
        }
      ]
    },
    {
      "cell_type": "code",
      "source": [
        "df.groupBy('mobile').min().show(5,False)"
      ],
      "metadata": {
        "colab": {
          "base_uri": "https://localhost:8080/"
        },
        "id": "_LkUo9IH1aJY",
        "outputId": "803809e1-5854-4bde-b7c8-789649dc7399"
      },
      "execution_count": null,
      "outputs": [
        {
          "output_type": "stream",
          "name": "stdout",
          "text": [
            "+-------+------------+--------+---------------+-----------+\n",
            "|mobile |min(ratings)|min(age)|min(experience)|min(family)|\n",
            "+-------+------------+--------+---------------+-----------+\n",
            "|MI     |1           |27      |2.5            |0          |\n",
            "|Oppo   |2           |22      |6.0            |0          |\n",
            "|Samsung|2           |22      |2.5            |0          |\n",
            "|Vivo   |3           |32      |6.0            |0          |\n",
            "|Apple  |3           |22      |2.5            |0          |\n",
            "+-------+------------+--------+---------------+-----------+\n",
            "\n"
          ]
        }
      ]
    },
    {
      "cell_type": "code",
      "source": [
        "df.groupBy('mobile').agg({'experience':'sum'}).show(5,False)"
      ],
      "metadata": {
        "colab": {
          "base_uri": "https://localhost:8080/"
        },
        "id": "pG8IBlP01cYW",
        "outputId": "158788d5-de1e-4881-dad3-c70cc96d0e90"
      },
      "execution_count": null,
      "outputs": [
        {
          "output_type": "stream",
          "name": "stdout",
          "text": [
            "+-------+---------------+\n",
            "|mobile |sum(experience)|\n",
            "+-------+---------------+\n",
            "|MI     |81.5           |\n",
            "|Oppo   |72.5           |\n",
            "|Samsung|52.0           |\n",
            "|Vivo   |57.0           |\n",
            "|Apple  |77.0           |\n",
            "+-------+---------------+\n",
            "\n"
          ]
        }
      ]
    },
    {
      "cell_type": "code",
      "source": [
        "from pyspark.sql.functions import udf"
      ],
      "metadata": {
        "id": "vDjSursE1wOW"
      },
      "execution_count": null,
      "outputs": []
    },
    {
      "cell_type": "code",
      "source": [
        "def price_range(brand):\n",
        "    if brand in ['Samsung','Apple']:\n",
        "        return 'High Price'\n",
        "    elif brand =='MI':\n",
        "        return 'Mid Price'\n",
        "    else:\n",
        "        return 'Low Price'"
      ],
      "metadata": {
        "id": "YZGm0O4b8C4Q"
      },
      "execution_count": null,
      "outputs": []
    },
    {
      "cell_type": "code",
      "source": [
        "brand_udf=udf(price_range,StringType())\n",
        "\n",
        "df.withColumn('price_range',brand_udf(df['mobile'])).show(10,False)"
      ],
      "metadata": {
        "colab": {
          "base_uri": "https://localhost:8080/"
        },
        "id": "LEaa5syl8GRX",
        "outputId": "4ef15c33-7f4c-45e2-b3d7-d98a0bbce907"
      },
      "execution_count": null,
      "outputs": [
        {
          "output_type": "stream",
          "name": "stdout",
          "text": [
            "+-------+---+----------+------+-------+-----------+\n",
            "|ratings|age|experience|family|mobile |price_range|\n",
            "+-------+---+----------+------+-------+-----------+\n",
            "|3      |32 |9.0       |3     |Vivo   |Low Price  |\n",
            "|3      |27 |13.0      |3     |Apple  |High Price |\n",
            "|4      |22 |2.5       |0     |Samsung|High Price |\n",
            "|4      |37 |16.5      |4     |Apple  |High Price |\n",
            "|5      |27 |9.0       |1     |MI     |Mid Price  |\n",
            "|4      |27 |9.0       |0     |Oppo   |Low Price  |\n",
            "|5      |37 |23.0      |5     |Vivo   |Low Price  |\n",
            "|5      |37 |23.0      |5     |Samsung|High Price |\n",
            "|3      |22 |2.5       |0     |Apple  |High Price |\n",
            "|3      |27 |6.0       |0     |MI     |Mid Price  |\n",
            "+-------+---+----------+------+-------+-----------+\n",
            "only showing top 10 rows\n",
            "\n"
          ]
        }
      ]
    },
    {
      "cell_type": "code",
      "source": [
        "age_udf = udf(lambda age: \"young\" if age <= 30 else \"senior\", StringType())\n",
        "\n",
        "df.withColumn(\"age_group\", age_udf(df.age)).show(10,False)"
      ],
      "metadata": {
        "colab": {
          "base_uri": "https://localhost:8080/"
        },
        "id": "EGv5Qq548UVc",
        "outputId": "e4966014-9488-49d9-c5f3-cf702409298e"
      },
      "execution_count": null,
      "outputs": [
        {
          "output_type": "stream",
          "name": "stdout",
          "text": [
            "+-------+---+----------+------+-------+---------+\n",
            "|ratings|age|experience|family|mobile |age_group|\n",
            "+-------+---+----------+------+-------+---------+\n",
            "|3      |32 |9.0       |3     |Vivo   |senior   |\n",
            "|3      |27 |13.0      |3     |Apple  |young    |\n",
            "|4      |22 |2.5       |0     |Samsung|young    |\n",
            "|4      |37 |16.5      |4     |Apple  |senior   |\n",
            "|5      |27 |9.0       |1     |MI     |young    |\n",
            "|4      |27 |9.0       |0     |Oppo   |young    |\n",
            "|5      |37 |23.0      |5     |Vivo   |senior   |\n",
            "|5      |37 |23.0      |5     |Samsung|senior   |\n",
            "|3      |22 |2.5       |0     |Apple  |young    |\n",
            "|3      |27 |6.0       |0     |MI     |young    |\n",
            "+-------+---+----------+------+-------+---------+\n",
            "only showing top 10 rows\n",
            "\n"
          ]
        }
      ]
    },
    {
      "cell_type": "code",
      "source": [
        "from pyspark.sql.functions import pandas_udf, PandasUDFType\n",
        "\n",
        "def remaining_yrs(age):\n",
        "    yrs_left=100-age\n",
        "\n",
        "    return yrs_left"
      ],
      "metadata": {
        "id": "-kn9Ys4r8bDq"
      },
      "execution_count": null,
      "outputs": []
    },
    {
      "cell_type": "code",
      "source": [
        "length_udf = pandas_udf(remaining_yrs, IntegerType())\n",
        "\n",
        "df.withColumn(\"yrs_left\", length_udf(df['age'])).show(10,False)"
      ],
      "metadata": {
        "colab": {
          "base_uri": "https://localhost:8080/"
        },
        "id": "ZQGkeU9u8fJX",
        "outputId": "7ae3c88d-956c-4d48-de3c-b9b23b906bf3"
      },
      "execution_count": null,
      "outputs": [
        {
          "output_type": "stream",
          "name": "stdout",
          "text": [
            "+-------+---+----------+------+-------+--------+\n",
            "|ratings|age|experience|family|mobile |yrs_left|\n",
            "+-------+---+----------+------+-------+--------+\n",
            "|3      |32 |9.0       |3     |Vivo   |68      |\n",
            "|3      |27 |13.0      |3     |Apple  |73      |\n",
            "|4      |22 |2.5       |0     |Samsung|78      |\n",
            "|4      |37 |16.5      |4     |Apple  |63      |\n",
            "|5      |27 |9.0       |1     |MI     |73      |\n",
            "|4      |27 |9.0       |0     |Oppo   |73      |\n",
            "|5      |37 |23.0      |5     |Vivo   |63      |\n",
            "|5      |37 |23.0      |5     |Samsung|63      |\n",
            "|3      |22 |2.5       |0     |Apple  |78      |\n",
            "|3      |27 |6.0       |0     |MI     |73      |\n",
            "+-------+---+----------+------+-------+--------+\n",
            "only showing top 10 rows\n",
            "\n"
          ]
        }
      ]
    },
    {
      "cell_type": "code",
      "source": [
        "def prod(rating,exp):\n",
        "    x=rating*exp\n",
        "    return x"
      ],
      "metadata": {
        "id": "8oGnoMVK8kd6"
      },
      "execution_count": null,
      "outputs": []
    },
    {
      "cell_type": "code",
      "source": [
        "prod_udf = pandas_udf(prod, DoubleType())\n",
        "\n",
        "df.withColumn(\"product\", prod_udf(df['ratings'],df['experience'])).show(10,False)"
      ],
      "metadata": {
        "colab": {
          "base_uri": "https://localhost:8080/"
        },
        "id": "7lJj75ZR9LVQ",
        "outputId": "f904f432-5c73-4f5e-cbf8-8e4a78fd59e9"
      },
      "execution_count": null,
      "outputs": [
        {
          "output_type": "stream",
          "name": "stdout",
          "text": [
            "+-------+---+----------+------+-------+-------+\n",
            "|ratings|age|experience|family|mobile |product|\n",
            "+-------+---+----------+------+-------+-------+\n",
            "|3      |32 |9.0       |3     |Vivo   |27.0   |\n",
            "|3      |27 |13.0      |3     |Apple  |39.0   |\n",
            "|4      |22 |2.5       |0     |Samsung|10.0   |\n",
            "|4      |37 |16.5      |4     |Apple  |66.0   |\n",
            "|5      |27 |9.0       |1     |MI     |45.0   |\n",
            "|4      |27 |9.0       |0     |Oppo   |36.0   |\n",
            "|5      |37 |23.0      |5     |Vivo   |115.0  |\n",
            "|5      |37 |23.0      |5     |Samsung|115.0  |\n",
            "|3      |22 |2.5       |0     |Apple  |7.5    |\n",
            "|3      |27 |6.0       |0     |MI     |18.0   |\n",
            "+-------+---+----------+------+-------+-------+\n",
            "only showing top 10 rows\n",
            "\n"
          ]
        }
      ]
    },
    {
      "cell_type": "code",
      "source": [
        "df.count()"
      ],
      "metadata": {
        "colab": {
          "base_uri": "https://localhost:8080/"
        },
        "id": "JVdExo2T9Nql",
        "outputId": "2aeb7340-7314-47a5-b1fd-54ab634a4e68"
      },
      "execution_count": null,
      "outputs": [
        {
          "output_type": "execute_result",
          "data": {
            "text/plain": [
              "33"
            ]
          },
          "metadata": {},
          "execution_count": 239
        }
      ]
    },
    {
      "cell_type": "code",
      "source": [
        "df=df.dropDuplicates()"
      ],
      "metadata": {
        "id": "FvxFct-_9Qqo"
      },
      "execution_count": null,
      "outputs": []
    },
    {
      "cell_type": "code",
      "source": [
        "df.count()"
      ],
      "metadata": {
        "colab": {
          "base_uri": "https://localhost:8080/"
        },
        "id": "5Z4lCcSo9ThA",
        "outputId": "14f03983-6d5c-402f-e6bd-20373eae59aa"
      },
      "execution_count": null,
      "outputs": [
        {
          "output_type": "execute_result",
          "data": {
            "text/plain": [
              "26"
            ]
          },
          "metadata": {},
          "execution_count": 241
        }
      ]
    },
    {
      "cell_type": "code",
      "source": [
        "df_new=df.drop('mobile')"
      ],
      "metadata": {
        "id": "SoV17usr9Wcj"
      },
      "execution_count": null,
      "outputs": []
    },
    {
      "cell_type": "code",
      "source": [
        "df_new.show(10)"
      ],
      "metadata": {
        "colab": {
          "base_uri": "https://localhost:8080/"
        },
        "id": "5LwbUPuy9Yuy",
        "outputId": "c3a001d7-e732-4da6-e68c-76010506e156"
      },
      "execution_count": null,
      "outputs": [
        {
          "output_type": "stream",
          "name": "stdout",
          "text": [
            "+-------+---+----------+------+\n",
            "|ratings|age|experience|family|\n",
            "+-------+---+----------+------+\n",
            "|      3| 32|       9.0|     3|\n",
            "|      4| 22|       2.5|     0|\n",
            "|      5| 27|       6.0|     0|\n",
            "|      4| 22|       6.0|     1|\n",
            "|      3| 27|       6.0|     0|\n",
            "|      2| 32|      16.5|     2|\n",
            "|      4| 27|       9.0|     0|\n",
            "|      2| 27|       9.0|     2|\n",
            "|      3| 37|      16.5|     5|\n",
            "|      4| 27|       6.0|     1|\n",
            "+-------+---+----------+------+\n",
            "only showing top 10 rows\n",
            "\n"
          ]
        }
      ]
    },
    {
      "cell_type": "code",
      "source": [
        "!pwd\n",
        "!pip install boto3"
      ],
      "metadata": {
        "colab": {
          "base_uri": "https://localhost:8080/"
        },
        "id": "tr1maizv90ON",
        "outputId": "2f878175-1a3d-4a08-b25a-d0f899257143"
      },
      "execution_count": null,
      "outputs": [
        {
          "output_type": "stream",
          "name": "stdout",
          "text": [
            "/content\n",
            "Requirement already satisfied: boto3 in /usr/local/lib/python3.10/dist-packages (1.34.113)\n",
            "Requirement already satisfied: botocore<1.35.0,>=1.34.113 in /usr/local/lib/python3.10/dist-packages (from boto3) (1.34.113)\n",
            "Requirement already satisfied: jmespath<2.0.0,>=0.7.1 in /usr/local/lib/python3.10/dist-packages (from boto3) (1.0.1)\n",
            "Requirement already satisfied: s3transfer<0.11.0,>=0.10.0 in /usr/local/lib/python3.10/dist-packages (from boto3) (0.10.1)\n",
            "Requirement already satisfied: python-dateutil<3.0.0,>=2.1 in /usr/local/lib/python3.10/dist-packages (from botocore<1.35.0,>=1.34.113->boto3) (2.8.2)\n",
            "Requirement already satisfied: urllib3!=2.2.0,<3,>=1.25.4 in /usr/local/lib/python3.10/dist-packages (from botocore<1.35.0,>=1.34.113->boto3) (2.0.7)\n",
            "Requirement already satisfied: six>=1.5 in /usr/local/lib/python3.10/dist-packages (from python-dateutil<3.0.0,>=2.1->botocore<1.35.0,>=1.34.113->boto3) (1.16.0)\n"
          ]
        }
      ]
    },
    {
      "cell_type": "code",
      "source": [
        "# Guardar el DF en S3\n",
        "import boto3\n",
        "\n",
        "# AWS config\n",
        "key = \"<YOUR_KEY>\"\n",
        "secret = \"<YOUR_KEY>\"\n",
        "token = \"<YOU_TOKEN>\"\n",
        "\n",
        "# Local path\n",
        "file_path = '/content/'\n",
        "\n",
        "# S3 path\n",
        "bucket_name = 'adrephos-bucket'\n",
        "bucket_path = 'colab/'\n",
        "\n",
        "s3 = boto3.resource('s3', aws_access_key_id=key, aws_secret_access_key=secret, aws_session_token=token)"
      ],
      "metadata": {
        "id": "EAhX8NYrqdKk"
      },
      "execution_count": null,
      "outputs": []
    },
    {
      "cell_type": "code",
      "source": [
        "file_name = \"df.csv\"\n",
        "df.toPandas().to_csv(file_path + file_name)\n",
        "\n",
        "s3.Bucket(bucket_name).upload_file(file_path + file_name, bucket_path + file_name)"
      ],
      "metadata": {
        "id": "jOIDiXrDSmmT"
      },
      "execution_count": null,
      "outputs": []
    },
    {
      "cell_type": "code",
      "source": [
        "file_name = \"df.parquet\"\n",
        "df.toPandas().to_parquet(file_path + file_name)\n",
        "\n",
        "s3.Bucket(bucket_name).upload_file(file_path + file_name, bucket_path + file_name)"
      ],
      "metadata": {
        "id": "MaXpQVDWSuQe"
      },
      "execution_count": null,
      "outputs": []
    }
  ]
}
